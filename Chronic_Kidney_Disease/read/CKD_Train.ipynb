{
 "cells": [
  {
   "cell_type": "code",
   "execution_count": 2,
   "metadata": {},
   "outputs": [],
   "source": [
    "import numpy as np\n",
    "import pandas as pd\n",
    "import tensorflow as tf\n",
    "import csv\n",
    "import matplotlib.pyplot as plt\n",
    "from scipy import signal\n",
    "import seaborn as sns\n",
    "import sklearn"
   ]
  },
  {
   "cell_type": "code",
   "execution_count": 6,
   "metadata": {},
   "outputs": [
    {
     "name": "stdout",
     "output_type": "stream",
     "text": [
      "    age  blood pressure  specific gravity  albumin  sugar red blood cells  \\\n",
      "0  48.0            80.0             1.020      1.0    0.0             NaN   \n",
      "1   7.0            50.0             1.020      4.0    0.0             NaN   \n",
      "2  62.0            80.0             1.010      2.0    3.0          normal   \n",
      "3  48.0            70.0             1.005      4.0    0.0          normal   \n",
      "4  51.0            80.0             1.010      2.0    0.0          normal   \n",
      "\n",
      "   pus cell pus cell clumps    bacteria  blood glucose random  ...  \\\n",
      "0    normal      notpresent  notpresent                 121.0  ...   \n",
      "1    normal      notpresent  notpresent                   NaN  ...   \n",
      "2    normal      notpresent  notpresent                 423.0  ...   \n",
      "3  abnormal         present  notpresent                 117.0  ...   \n",
      "4    normal      notpresent  notpresent                 106.0  ...   \n",
      "\n",
      "   packed cell volume  white blood cell count  red blood cell count  \\\n",
      "0                  44                    7800                   5.2   \n",
      "1                  38                    6000                   NaN   \n",
      "2                  31                    7500                   NaN   \n",
      "3                  32                    6700                   3.9   \n",
      "4                  35                    7300                   4.6   \n",
      "\n",
      "   hypertension  diabetes mellitus coronary artery disease appetite  \\\n",
      "0           yes                yes                      no     good   \n",
      "1            no                 no                      no     good   \n",
      "2            no                yes                      no     poor   \n",
      "3           yes                 no                      no     poor   \n",
      "4            no                 no                      no     good   \n",
      "\n",
      "  pedal edema anemia class  \n",
      "0          no     no   ckd  \n",
      "1          no     no   ckd  \n",
      "2          no    yes   ckd  \n",
      "3         yes    yes   ckd  \n",
      "4          no     no   ckd  \n",
      "\n",
      "[5 rows x 25 columns]\n"
     ]
    }
   ],
   "source": [
    "#INPUT DATA\n",
    "\n",
    "data = pd.read_csv('chronic_kidney_disease.csv') \n",
    "print(data.head())\n"
   ]
  },
  {
   "cell_type": "code",
   "execution_count": 43,
   "metadata": {},
   "outputs": [
    {
     "name": "stdout",
     "output_type": "stream",
     "text": [
      "(400, 25)\n"
     ]
    },
    {
     "data": {
      "text/html": [
       "<div>\n",
       "<style scoped>\n",
       "    .dataframe tbody tr th:only-of-type {\n",
       "        vertical-align: middle;\n",
       "    }\n",
       "\n",
       "    .dataframe tbody tr th {\n",
       "        vertical-align: top;\n",
       "    }\n",
       "\n",
       "    .dataframe thead th {\n",
       "        text-align: right;\n",
       "    }\n",
       "</style>\n",
       "<table border=\"1\" class=\"dataframe\">\n",
       "  <thead>\n",
       "    <tr style=\"text-align: right;\">\n",
       "      <th></th>\n",
       "      <th>age</th>\n",
       "      <th>blood pressure</th>\n",
       "      <th>specific gravity</th>\n",
       "      <th>albumin</th>\n",
       "      <th>sugar</th>\n",
       "      <th>red blood cells</th>\n",
       "      <th>pus cell</th>\n",
       "      <th>pus cell clumps</th>\n",
       "      <th>bacteria</th>\n",
       "      <th>blood glucose random</th>\n",
       "      <th>...</th>\n",
       "      <th>sodium</th>\n",
       "      <th>potassium</th>\n",
       "      <th>hemoglobin</th>\n",
       "      <th>hypertension</th>\n",
       "      <th>diabetes mellitus</th>\n",
       "      <th>coronary artery disease</th>\n",
       "      <th>appetite</th>\n",
       "      <th>pedal edema</th>\n",
       "      <th>anemia</th>\n",
       "      <th>class</th>\n",
       "    </tr>\n",
       "  </thead>\n",
       "  <tbody>\n",
       "    <tr>\n",
       "      <th>count</th>\n",
       "      <td>391.000000</td>\n",
       "      <td>388.000000</td>\n",
       "      <td>353.000000</td>\n",
       "      <td>354.000000</td>\n",
       "      <td>351.000000</td>\n",
       "      <td>248.000000</td>\n",
       "      <td>335.000000</td>\n",
       "      <td>396.000000</td>\n",
       "      <td>396.000000</td>\n",
       "      <td>356.000000</td>\n",
       "      <td>...</td>\n",
       "      <td>313.000000</td>\n",
       "      <td>312.000000</td>\n",
       "      <td>348.000000</td>\n",
       "      <td>398.000000</td>\n",
       "      <td>398.000000</td>\n",
       "      <td>398.000000</td>\n",
       "      <td>399.000000</td>\n",
       "      <td>399.000000</td>\n",
       "      <td>399.000000</td>\n",
       "      <td>400.000000</td>\n",
       "    </tr>\n",
       "    <tr>\n",
       "      <th>mean</th>\n",
       "      <td>51.483376</td>\n",
       "      <td>76.469072</td>\n",
       "      <td>1.017408</td>\n",
       "      <td>1.016949</td>\n",
       "      <td>0.450142</td>\n",
       "      <td>0.189516</td>\n",
       "      <td>0.226866</td>\n",
       "      <td>0.106061</td>\n",
       "      <td>0.055556</td>\n",
       "      <td>148.036517</td>\n",
       "      <td>...</td>\n",
       "      <td>137.528754</td>\n",
       "      <td>4.627244</td>\n",
       "      <td>12.526437</td>\n",
       "      <td>0.369347</td>\n",
       "      <td>0.344221</td>\n",
       "      <td>0.085427</td>\n",
       "      <td>0.794486</td>\n",
       "      <td>0.190476</td>\n",
       "      <td>0.150376</td>\n",
       "      <td>0.625000</td>\n",
       "    </tr>\n",
       "    <tr>\n",
       "      <th>std</th>\n",
       "      <td>17.169714</td>\n",
       "      <td>13.683637</td>\n",
       "      <td>0.005717</td>\n",
       "      <td>1.352679</td>\n",
       "      <td>1.099191</td>\n",
       "      <td>0.392711</td>\n",
       "      <td>0.419431</td>\n",
       "      <td>0.308305</td>\n",
       "      <td>0.229351</td>\n",
       "      <td>79.281714</td>\n",
       "      <td>...</td>\n",
       "      <td>10.408752</td>\n",
       "      <td>3.193904</td>\n",
       "      <td>2.912587</td>\n",
       "      <td>0.483235</td>\n",
       "      <td>0.475712</td>\n",
       "      <td>0.279868</td>\n",
       "      <td>0.404584</td>\n",
       "      <td>0.393170</td>\n",
       "      <td>0.357888</td>\n",
       "      <td>0.484729</td>\n",
       "    </tr>\n",
       "    <tr>\n",
       "      <th>min</th>\n",
       "      <td>2.000000</td>\n",
       "      <td>50.000000</td>\n",
       "      <td>1.005000</td>\n",
       "      <td>0.000000</td>\n",
       "      <td>0.000000</td>\n",
       "      <td>0.000000</td>\n",
       "      <td>0.000000</td>\n",
       "      <td>0.000000</td>\n",
       "      <td>0.000000</td>\n",
       "      <td>22.000000</td>\n",
       "      <td>...</td>\n",
       "      <td>4.500000</td>\n",
       "      <td>2.500000</td>\n",
       "      <td>3.100000</td>\n",
       "      <td>0.000000</td>\n",
       "      <td>0.000000</td>\n",
       "      <td>0.000000</td>\n",
       "      <td>0.000000</td>\n",
       "      <td>0.000000</td>\n",
       "      <td>0.000000</td>\n",
       "      <td>0.000000</td>\n",
       "    </tr>\n",
       "    <tr>\n",
       "      <th>25%</th>\n",
       "      <td>42.000000</td>\n",
       "      <td>70.000000</td>\n",
       "      <td>1.010000</td>\n",
       "      <td>0.000000</td>\n",
       "      <td>0.000000</td>\n",
       "      <td>0.000000</td>\n",
       "      <td>0.000000</td>\n",
       "      <td>0.000000</td>\n",
       "      <td>0.000000</td>\n",
       "      <td>99.000000</td>\n",
       "      <td>...</td>\n",
       "      <td>135.000000</td>\n",
       "      <td>3.800000</td>\n",
       "      <td>10.300000</td>\n",
       "      <td>0.000000</td>\n",
       "      <td>0.000000</td>\n",
       "      <td>0.000000</td>\n",
       "      <td>1.000000</td>\n",
       "      <td>0.000000</td>\n",
       "      <td>0.000000</td>\n",
       "      <td>0.000000</td>\n",
       "    </tr>\n",
       "    <tr>\n",
       "      <th>50%</th>\n",
       "      <td>55.000000</td>\n",
       "      <td>80.000000</td>\n",
       "      <td>1.020000</td>\n",
       "      <td>0.000000</td>\n",
       "      <td>0.000000</td>\n",
       "      <td>0.000000</td>\n",
       "      <td>0.000000</td>\n",
       "      <td>0.000000</td>\n",
       "      <td>0.000000</td>\n",
       "      <td>121.000000</td>\n",
       "      <td>...</td>\n",
       "      <td>138.000000</td>\n",
       "      <td>4.400000</td>\n",
       "      <td>12.650000</td>\n",
       "      <td>0.000000</td>\n",
       "      <td>0.000000</td>\n",
       "      <td>0.000000</td>\n",
       "      <td>1.000000</td>\n",
       "      <td>0.000000</td>\n",
       "      <td>0.000000</td>\n",
       "      <td>1.000000</td>\n",
       "    </tr>\n",
       "    <tr>\n",
       "      <th>75%</th>\n",
       "      <td>64.500000</td>\n",
       "      <td>80.000000</td>\n",
       "      <td>1.020000</td>\n",
       "      <td>2.000000</td>\n",
       "      <td>0.000000</td>\n",
       "      <td>0.000000</td>\n",
       "      <td>0.000000</td>\n",
       "      <td>0.000000</td>\n",
       "      <td>0.000000</td>\n",
       "      <td>163.000000</td>\n",
       "      <td>...</td>\n",
       "      <td>142.000000</td>\n",
       "      <td>4.900000</td>\n",
       "      <td>15.000000</td>\n",
       "      <td>1.000000</td>\n",
       "      <td>1.000000</td>\n",
       "      <td>0.000000</td>\n",
       "      <td>1.000000</td>\n",
       "      <td>0.000000</td>\n",
       "      <td>0.000000</td>\n",
       "      <td>1.000000</td>\n",
       "    </tr>\n",
       "    <tr>\n",
       "      <th>max</th>\n",
       "      <td>90.000000</td>\n",
       "      <td>180.000000</td>\n",
       "      <td>1.025000</td>\n",
       "      <td>5.000000</td>\n",
       "      <td>5.000000</td>\n",
       "      <td>1.000000</td>\n",
       "      <td>1.000000</td>\n",
       "      <td>1.000000</td>\n",
       "      <td>1.000000</td>\n",
       "      <td>490.000000</td>\n",
       "      <td>...</td>\n",
       "      <td>163.000000</td>\n",
       "      <td>47.000000</td>\n",
       "      <td>17.800000</td>\n",
       "      <td>1.000000</td>\n",
       "      <td>1.000000</td>\n",
       "      <td>1.000000</td>\n",
       "      <td>1.000000</td>\n",
       "      <td>1.000000</td>\n",
       "      <td>1.000000</td>\n",
       "      <td>1.000000</td>\n",
       "    </tr>\n",
       "  </tbody>\n",
       "</table>\n",
       "<p>8 rows × 22 columns</p>\n",
       "</div>"
      ],
      "text/plain": [
       "              age  blood pressure  specific gravity     albumin       sugar  \\\n",
       "count  391.000000      388.000000        353.000000  354.000000  351.000000   \n",
       "mean    51.483376       76.469072          1.017408    1.016949    0.450142   \n",
       "std     17.169714       13.683637          0.005717    1.352679    1.099191   \n",
       "min      2.000000       50.000000          1.005000    0.000000    0.000000   \n",
       "25%     42.000000       70.000000          1.010000    0.000000    0.000000   \n",
       "50%     55.000000       80.000000          1.020000    0.000000    0.000000   \n",
       "75%     64.500000       80.000000          1.020000    2.000000    0.000000   \n",
       "max     90.000000      180.000000          1.025000    5.000000    5.000000   \n",
       "\n",
       "       red blood cells    pus cell  pus cell clumps    bacteria  \\\n",
       "count       248.000000  335.000000       396.000000  396.000000   \n",
       "mean          0.189516    0.226866         0.106061    0.055556   \n",
       "std           0.392711    0.419431         0.308305    0.229351   \n",
       "min           0.000000    0.000000         0.000000    0.000000   \n",
       "25%           0.000000    0.000000         0.000000    0.000000   \n",
       "50%           0.000000    0.000000         0.000000    0.000000   \n",
       "75%           0.000000    0.000000         0.000000    0.000000   \n",
       "max           1.000000    1.000000         1.000000    1.000000   \n",
       "\n",
       "       blood glucose random  ...      sodium   potassium  hemoglobin  \\\n",
       "count            356.000000  ...  313.000000  312.000000  348.000000   \n",
       "mean             148.036517  ...  137.528754    4.627244   12.526437   \n",
       "std               79.281714  ...   10.408752    3.193904    2.912587   \n",
       "min               22.000000  ...    4.500000    2.500000    3.100000   \n",
       "25%               99.000000  ...  135.000000    3.800000   10.300000   \n",
       "50%              121.000000  ...  138.000000    4.400000   12.650000   \n",
       "75%              163.000000  ...  142.000000    4.900000   15.000000   \n",
       "max              490.000000  ...  163.000000   47.000000   17.800000   \n",
       "\n",
       "       hypertension  diabetes mellitus  coronary artery disease    appetite  \\\n",
       "count    398.000000         398.000000               398.000000  399.000000   \n",
       "mean       0.369347           0.344221                 0.085427    0.794486   \n",
       "std        0.483235           0.475712                 0.279868    0.404584   \n",
       "min        0.000000           0.000000                 0.000000    0.000000   \n",
       "25%        0.000000           0.000000                 0.000000    1.000000   \n",
       "50%        0.000000           0.000000                 0.000000    1.000000   \n",
       "75%        1.000000           1.000000                 0.000000    1.000000   \n",
       "max        1.000000           1.000000                 1.000000    1.000000   \n",
       "\n",
       "       pedal edema      anemia       class  \n",
       "count   399.000000  399.000000  400.000000  \n",
       "mean      0.190476    0.150376    0.625000  \n",
       "std       0.393170    0.357888    0.484729  \n",
       "min       0.000000    0.000000    0.000000  \n",
       "25%       0.000000    0.000000    0.000000  \n",
       "50%       0.000000    0.000000    1.000000  \n",
       "75%       0.000000    0.000000    1.000000  \n",
       "max       1.000000    1.000000    1.000000  \n",
       "\n",
       "[8 rows x 22 columns]"
      ]
     },
     "execution_count": 43,
     "metadata": {},
     "output_type": "execute_result"
    }
   ],
   "source": [
    "print(data.shape) #Shape of the data frame\n",
    "\n",
    "Data.describe()#statistical data"
   ]
  },
  {
   "cell_type": "code",
   "execution_count": 8,
   "metadata": {},
   "outputs": [
    {
     "name": "stdout",
     "output_type": "stream",
     "text": [
      "    age  blood pressure  specific gravity  albumin  sugar  red blood cells  \\\n",
      "0  48.0            80.0             1.020      1.0    0.0              NaN   \n",
      "1   7.0            50.0             1.020      4.0    0.0              NaN   \n",
      "2  62.0            80.0             1.010      2.0    3.0              0.0   \n",
      "3  48.0            70.0             1.005      4.0    0.0              0.0   \n",
      "4  51.0            80.0             1.010      2.0    0.0              0.0   \n",
      "\n",
      "   pus cell  pus cell clumps  bacteria  blood glucose random  ...  \\\n",
      "0       0.0              0.0       0.0                 121.0  ...   \n",
      "1       0.0              0.0       0.0                   NaN  ...   \n",
      "2       0.0              0.0       0.0                 423.0  ...   \n",
      "3       1.0              1.0       0.0                 117.0  ...   \n",
      "4       0.0              0.0       0.0                 106.0  ...   \n",
      "\n",
      "   packed cell volume  white blood cell count  red blood cell count  \\\n",
      "0                  44                    7800                   5.2   \n",
      "1                  38                    6000                   NaN   \n",
      "2                  31                    7500                   NaN   \n",
      "3                  32                    6700                   3.9   \n",
      "4                  35                    7300                   4.6   \n",
      "\n",
      "   hypertension  diabetes mellitus coronary artery disease appetite  \\\n",
      "0           1.0                1.0                     0.0      1.0   \n",
      "1           0.0                0.0                     0.0      1.0   \n",
      "2           0.0                1.0                     0.0      0.0   \n",
      "3           1.0                0.0                     0.0      0.0   \n",
      "4           0.0                0.0                     0.0      1.0   \n",
      "\n",
      "  pedal edema  anemia  class  \n",
      "0         0.0     0.0      1  \n",
      "1         0.0     0.0      1  \n",
      "2         0.0     1.0      1  \n",
      "3         1.0     1.0      1  \n",
      "4         0.0     0.0      1  \n",
      "\n",
      "[5 rows x 25 columns]\n"
     ]
    }
   ],
   "source": [
    "data=data.replace('\\t','',regex=True) #remove \\t from data\n",
    "data=data.replace('\\n','',regex=True) #remove \\t from data\n",
    "\n",
    "Data=data.replace('notckd',0,regex=True) #replace notckd with 0\n",
    "Data=Data.replace('ckd',1,regex=True)    #replace ckd with 1\n",
    "\n",
    "Data=Data.replace('abnormal',1,regex=True)    #replace abnormal with 1\n",
    "Data=Data.replace('normal',0,regex=True)     #replace normal with 0\n",
    "\n",
    "Data=Data.replace('notpresent',0,regex=True) #replace notpresent with 0\n",
    "Data=Data.replace('present',1,regex=True)    #replace present with 1\n",
    "\n",
    "Data=Data.replace('yes',1,regex=True)    #replace yes with 1\n",
    "Data=Data.replace('no',0,regex=True)     #replace no with 0\n",
    "\n",
    "Data=Data.replace('good',1,regex=True)    #replace good with 1\n",
    "Data=Data.replace('poor',0,regex=True)     #replace poor with 0\n",
    "\n",
    "print(Data.head())"
   ]
  },
  {
   "cell_type": "code",
   "execution_count": 9,
   "metadata": {},
   "outputs": [
    {
     "data": {
      "text/plain": [
       "age                          9\n",
       "blood pressure              12\n",
       "specific gravity            47\n",
       "albumin                     46\n",
       "sugar                       49\n",
       "red blood cells            152\n",
       "pus cell                    65\n",
       "pus cell clumps              4\n",
       "bacteria                     4\n",
       "blood glucose random        44\n",
       "blood urea                  19\n",
       "serum creatinine            17\n",
       "sodium                      87\n",
       "potassium                   88\n",
       "hemoglobin                  52\n",
       "packed cell volume          70\n",
       "white blood cell count     105\n",
       "red blood cell count       130\n",
       "hypertension                 2\n",
       "diabetes mellitus            2\n",
       "coronary artery disease      2\n",
       "appetite                     1\n",
       "pedal edema                  1\n",
       "anemia                       1\n",
       "class                        0\n",
       "dtype: int64"
      ]
     },
     "execution_count": 9,
     "metadata": {},
     "output_type": "execute_result"
    }
   ],
   "source": [
    "Data.isna().sum()"
   ]
  },
  {
   "cell_type": "code",
   "execution_count": 10,
   "metadata": {},
   "outputs": [
    {
     "data": {
      "text/plain": [
       "array([1, 0], dtype=int64)"
      ]
     },
     "execution_count": 10,
     "metadata": {},
     "output_type": "execute_result"
    },
    {
     "data": {
      "image/png": "[encoded data removed]",
      "text/plain": [
       "<Figure size 432x288 with 1 Axes>"
      ]
     },
     "metadata": {
      "needs_background": "light"
     },
     "output_type": "display_data"
    }
   ],
   "source": [
    "#Age distribution \n",
    "sns.countplot(data[\"age\"])\n",
    "\n",
    "Data[\"class\"].unique()"
   ]
  },
  {
   "cell_type": "code",
   "execution_count": 11,
   "metadata": {},
   "outputs": [
    {
     "data": {
      "text/plain": [
       "<matplotlib.axes._subplots.AxesSubplot at 0x2022cb4fbc8>"
      ]
     },
     "execution_count": 11,
     "metadata": {},
     "output_type": "execute_result"
    },
    {
     "data": {
      "image/png": "[encoded data removed]",
      "text/plain": [
       "<Figure size 432x288 with 1 Axes>"
      ]
     },
     "metadata": {
      "needs_background": "light"
     },
     "output_type": "display_data"
    }
   ],
   "source": [
    "AgeGroup=pd.cut(Data[\"age\"],[0,10,20,30,40,50,60,70,80,90,100,150])\n",
    "sns.countplot(AgeGroup,hue=Data[\"class\"])\n",
    "\n",
    "# >From the output, it clearly shows that the data about 0 to 10 AND 80 to 90  ages are 100% about positive ckd\n",
    "# > from the graph it shows that NONCKD has a good distribution and CKD has a bias towards older people"
   ]
  },
  {
   "cell_type": "code",
   "execution_count": 12,
   "metadata": {},
   "outputs": [
    {
     "data": {
      "text/plain": [
       "<matplotlib.axes._subplots.AxesSubplot at 0x2022b6b7d88>"
      ]
     },
     "execution_count": 12,
     "metadata": {},
     "output_type": "execute_result"
    },
    {
     "data": {
      "image/png": "[encoded data removed]",
      "text/plain": [
       "<Figure size 432x288 with 1 Axes>"
      ]
     },
     "metadata": {
      "needs_background": "light"
     },
     "output_type": "display_data"
    }
   ],
   "source": [
    "bloodPressureGroup=pd.cut(Data[\"blood pressure\"],[30,40,50,60,70,80,90,100,110,120,191])\n",
    "sns.countplot(bloodPressureGroup,hue=Data[\"class\"])\n",
    "\n",
    "#This is a plot of the blood presure and it clearly shows that when the BP is over 80 everyone gets CKD in this data set,\n",
    "#but in reality there could be other decieses as well which increses the BP level\n",
    "#and BP less than 50 also have CKD but usualy nonCKD people stays between BP from 50 to 80 but there are CKD people \n",
    "#in that range as well\n"
   ]
  },
  {
   "cell_type": "code",
   "execution_count": 13,
   "metadata": {},
   "outputs": [
    {
     "data": {
      "text/plain": [
       "<matplotlib.axes._subplots.AxesSubplot at 0x2022ccc7688>"
      ]
     },
     "execution_count": 13,
     "metadata": {},
     "output_type": "execute_result"
    },
    {
     "data": {
      "image/png": "[encoded data removed]",
      "text/plain": [
       "<Figure size 432x288 with 1 Axes>"
      ]
     },
     "metadata": {
      "needs_background": "light"
     },
     "output_type": "display_data"
    }
   ],
   "source": [
    "sns.countplot(Data[\"specific gravity\"],hue=Data[\"class\"])\n",
    "#when consider the specific gravity it shows thats its clear if the SG is lower than 1.02 then thatperson has CKD \n",
    "# and if the SG is between 1.02 to 1.025 are the normal range but there are people who has CKD in that range as well but \n",
    "# it reduced with the specific gravity "
   ]
  },
  {
   "cell_type": "markdown",
   "metadata": {},
   "source": [
    "### sns.countplot(Data[\"specific gravity\"],hue=Data[\"class\"])"
   ]
  },
  {
   "cell_type": "code",
   "execution_count": 36,
   "metadata": {},
   "outputs": [
    {
     "data": {
      "text/plain": [
       "<matplotlib.axes._subplots.AxesSubplot at 0x2468fdfc2c8>"
      ]
     },
     "execution_count": 36,
     "metadata": {},
     "output_type": "execute_result"
    },
    {
     "data": {
      "image/png": "[encoded data removed]",
      "text/plain": [
       "<Figure size 432x288 with 1 Axes>"
      ]
     },
     "metadata": {
      "needs_background": "light"
     },
     "output_type": "display_data"
    }
   ],
   "source": [
    "sns.countplot(Data[\"sugar\"],hue=Data[\"class\"])\n"
   ]
  },
  {
   "cell_type": "code",
   "execution_count": 18,
   "metadata": {},
   "outputs": [
    {
     "data": {
      "text/plain": [
       "<matplotlib.axes._subplots.AxesSubplot at 0x2022d3d5248>"
      ]
     },
     "execution_count": 18,
     "metadata": {},
     "output_type": "execute_result"
    },
    {
     "data": {
      "image/png": "[encoded data removed]",
      "text/plain": [
       "<Figure size 432x288 with 1 Axes>"
      ]
     },
     "metadata": {
      "needs_background": "light"
     },
     "output_type": "display_data"
    }
   ],
   "source": [
    "BoodGucoseRandomGroup=pd.cut(Data[\"blood glucose random\"],[20,40,60,80,100,120,140,160,280,300,350,600])\n",
    "sns.countplot(BoodGucoseRandomGroup,hue=Data[\"class\"])\n",
    "\n",
    "# the glucose level of the body should be there between 60 and 140 to be a nonCKD bu there are about 30% to 40% who has CKD\n",
    "# and still maintain the glucose level. \n",
    "# but if the glucose level is above 140 its clear that person has CKD"
   ]
  },
  {
   "cell_type": "code",
   "execution_count": 20,
   "metadata": {},
   "outputs": [
    {
     "data": {
      "text/plain": [
       "<matplotlib.axes._subplots.AxesSubplot at 0x2022d4e5908>"
      ]
     },
     "execution_count": 20,
     "metadata": {},
     "output_type": "execute_result"
    },
    {
     "data": {
      "image/png": "[encoded data removed]",
      "text/plain": [
       "<Figure size 432x288 with 1 Axes>"
      ]
     },
     "metadata": {
      "needs_background": "light"
     },
     "output_type": "display_data"
    }
   ],
   "source": [
    "sns.countplot(Data[\"serum creatinine\"],hue=Data[\"class\"])"
   ]
  },
  {
   "cell_type": "code",
   "execution_count": 40,
   "metadata": {},
   "outputs": [
    {
     "data": {
      "text/plain": [
       "<matplotlib.axes._subplots.AxesSubplot at 0x2022f902b88>"
      ]
     },
     "execution_count": 40,
     "metadata": {},
     "output_type": "execute_result"
    },
    {
     "data": {
      "image/png": "[encoded data removed]",
      "text/plain": [
       "<Figure size 432x288 with 1 Axes>"
      ]
     },
     "metadata": {
      "needs_background": "light"
     },
     "output_type": "display_data"
    }
   ],
   "source": [
    "SerumCreatinineGroup=pd.cut(Data[\"serum creatinine\"],[0,1,1.2,2,3,4,5,6,7,8,9,10,11,12,13,14,15,16,17,20,25,35,50,65,80])\n",
    "sns.countplot(SerumCreatinineGroup,hue=Data[\"class\"])\n",
    "\n",
    "#This plot and the above plot clearly shows that CS should be less than 1.2 to be  a non CKD but then again there are people \n",
    "# who has CKD with less than 1.2 SC"
   ]
  },
  {
   "cell_type": "code",
   "execution_count": 110,
   "metadata": {},
   "outputs": [],
   "source": [
    "subdata = Data.loc[:,[\"class\",\"serum creatinine\",\"blood glucose random\",\"sugar\",\"specific gravity\",\"blood pressure\",\"age\"]]\n",
    "subData=subdata.dropna(subset=[\"class\",\"serum creatinine\",\"blood glucose random\",\"sugar\",\"specific gravity\",\"blood pressure\",\"age\"])\n"
   ]
  },
  {
   "cell_type": "code",
   "execution_count": 215,
   "metadata": {},
   "outputs": [],
   "source": [
    "# Training model\n",
    "\n",
    "def models(X_train,Y_train):\n",
    "    \n",
    "    #Use Logistic Regression\n",
    "    from sklearn.linear_model import LogisticRegression\n",
    "    log = LogisticRegression(random_state = 0,solver='lbfgs')\n",
    "    log.fit(X_train,Y_train)\n",
    "    \n",
    "    #Use Kneighbors\n",
    "    from sklearn.neighbors import KNeighborsClassifier\n",
    "    knn=KNeighborsClassifier(n_neighbors = 5,metric=\"minkowski\",p=2)\n",
    "    knn.fit(X_train,Y_train)\n",
    "    \n",
    "    #Use SVC (linear kernel)\n",
    "    from sklearn.svm import SVC\n",
    "    svc_lin=SVC(kernel=\"linear\",random_state=0)\n",
    "    svc_lin.fit(X_train,Y_train)\n",
    "    \n",
    "    #Use SVC (RBF kernel)\n",
    "    from sklearn.svm import SVC\n",
    "    svc_rbf=SVC(kernel=\"rbf\",gamma='auto',random_state=0)\n",
    "    svc_rbf.fit(X_train,Y_train)\n",
    "    \n",
    "    #Use GaussianNB\n",
    "    from sklearn.naive_bayes import GaussianNB\n",
    "    gauss = GaussianNB()\n",
    "    gauss.fit(X_train,Y_train)\n",
    "    \n",
    "    #Use Decision Tree\n",
    "    from sklearn.tree import DecisionTreeClassifier\n",
    "    tree = DecisionTreeClassifier( criterion=\"entropy\" ,random_state=0)\n",
    "    tree.fit(X_train,Y_train)\n",
    "    \n",
    "    #Use Random Forest Classifier\n",
    "    from sklearn.ensemble import RandomForestClassifier\n",
    "    forest = RandomForestClassifier(n_estimators=10,criterion=\"entropy\",random_state=0)\n",
    "    forest.fit(X_train,Y_train)\n",
    "    \n",
    "    #Use XGBClassifier\n",
    "    import xgboost as xgb\n",
    "    modelx=xgb.XGBClassifier(random_state=1,learning_rate=0.01)\n",
    "    modelx.fit(X_train,Y_train)\n",
    "    \n",
    "    \n",
    "    #print the accuracy of each model\n",
    "    print(\"[0] Logistic Regression Training Accuracy: \",log.score(X_train,Y_train))\n",
    "    print(\"[1] K Neighbors Regression Training Accuracy: \",knn.score(X_train,Y_train))\n",
    "    print(\"[2] SVC Linear Training Accuracy: \",svc_lin.score(X_train,Y_train))\n",
    "    print(\"[3] SVC RBF Training Accuracy: \",svc_rbf.score(X_train,Y_train))\n",
    "    print(\"[4] Gaussian NB Training Accuracy: \",gauss.score(X_train,Y_train))\n",
    "    print(\"[5] Decision Tree Training Accuracy: \",tree.score(X_train,Y_train))\n",
    "    print(\"[6] Random Forest Training Accuracy: \",forest.score(X_train,Y_train))\n",
    "    print(\"[7] XGBClassifier Training Accuracy: \",modelx.score(X_train,Y_train))\n",
    "    \n",
    "    \n",
    "    return  log,knn, svc_lin, svc_rbf, gauss, tree, forest,modelx"
   ]
  },
  {
   "cell_type": "code",
   "execution_count": 216,
   "metadata": {},
   "outputs": [
    {
     "name": "stdout",
     "output_type": "stream",
     "text": [
      "\n",
      "============================================================================================\n",
      "Only considering ['blood glucose random', 'specific gravity', 'blood pressure', 'age'] \n",
      "size = 302\n",
      "============================================================================================\n",
      "\n",
      "\n",
      "[0] Logistic Regression Training Accuracy:  0.7717842323651453\n",
      "[1] K Neighbors Regression Training Accuracy:  0.8547717842323651\n",
      "[2] SVC Linear Training Accuracy:  0.7634854771784232\n",
      "[3] SVC RBF Training Accuracy:  0.991701244813278\n",
      "[4] Gaussian NB Training Accuracy:  0.9377593360995851\n",
      "[5] Decision Tree Training Accuracy:  1.0\n",
      "[6] Random Forest Training Accuracy:  0.9875518672199171\n",
      "[7] XGBClassifier Training Accuracy:  0.950207468879668\n",
      "\n",
      "============================================================================================\n",
      "\n",
      "Logistic Regression Testing Accuracy =  0.7049180327868853 \n",
      "\n",
      "\tTP: 22 \tFP: 6 \n",
      "\tTN: 21 \tFN: 12\n",
      "\n",
      "\n",
      "\n",
      "K Neighbors Testing Accuracy =  0.7704918032786885 \n",
      "\n",
      "\tTP: 24 \tFP: 4 \n",
      "\tTN: 23 \tFN: 10\n",
      "\n",
      "\n",
      "\n",
      "SVC Linear Testing Accuracy =  0.7540983606557377 \n",
      "\n",
      "\tTP: 22 \tFP: 3 \n",
      "\tTN: 24 \tFN: 12\n",
      "\n",
      "\n",
      "\n",
      "SVC RBF Testing Accuracy =  0.6065573770491803 \n",
      "\n",
      "\tTP: 31 \tFP: 21 \n",
      "\tTN: 6 \tFN: 3\n",
      "\n",
      "\n",
      "\n",
      "Gaussian NB Testing Accuracy =  0.9180327868852459 \n",
      "\n",
      "\tTP: 29 \tFP: 0 \n",
      "\tTN: 27 \tFN: 5\n",
      "\n",
      "\n",
      "\n",
      "Decision Tree Testing Accuracy =  0.9180327868852459 \n",
      "\n",
      "\tTP: 31 \tFP: 2 \n",
      "\tTN: 25 \tFN: 3\n",
      "\n",
      "\n",
      "\n",
      "Random Forest Testing Accuracy =  0.9508196721311475 \n",
      "\n",
      "\tTP: 32 \tFP: 1 \n",
      "\tTN: 26 \tFN: 2\n",
      "\n",
      "\n",
      "\n",
      "XGBClassifier Testing Accuracy =  0.9344262295081968 \n",
      "\n",
      "\tTP: 32 \tFP: 2 \n",
      "\tTN: 25 \tFN: 2\n",
      "\n",
      "\n",
      "\n"
     ]
    }
   ],
   "source": [
    "p=[\"blood glucose random\",\"specific gravity\",\"blood pressure\",\"age\"]\n",
    "\n",
    "subdata = Data.loc[:,p+[\"class\"]]\n",
    "subData=subdata.dropna(subset=p)\n",
    "\n",
    "X=subData.loc[:,p]\n",
    "Y=subData.loc[:,[\"class\"]]\n",
    "\n",
    "# Train and test set 80% : 20%\n",
    "from sklearn.model_selection import train_test_split\n",
    "X_train,X_test,Y_train,Y_test=train_test_split(X,Y,test_size=0.2,random_state=4)\n",
    "Y_train = np.array(np.ravel(Y_train)).astype(int)\n",
    "\n",
    "\n",
    "print(\"\\n============================================================================================\")\n",
    "print(\"Only considering\",p,\"\\nsize =\",len(subData))\n",
    "print(\"============================================================================================\\n\\n\")\n",
    "\n",
    "\n",
    "model = models(X_train,Y_train)\n",
    "ms=[\"Logistic Regression\",\"K Neighbors\",\"SVC Linear\",\"SVC RBF\",\"Gaussian NB\",\"Decision Tree\",\"Random Forest\",\"XGBClassifier\"]\n",
    "\n",
    "print(\"\\n============================================================================================\\n\")\n",
    "from sklearn.metrics import confusion_matrix\n",
    "for i in range (len(model)):\n",
    "    cm= confusion_matrix(Y_test,model[i].predict(X_test))\n",
    "    \n",
    "\n",
    "    #Extract  TN, FP ,FN, TP\n",
    "    TN, FP ,FN, TP =  cm.ravel()\n",
    "    \n",
    "    test_score=(TP+TN)/(TN+ FP +FN+ TP)\n",
    "    #print(cm)\n",
    "    print(ms[i],'Testing Accuracy = ',test_score,\"\\n\")\n",
    "    print(\"\\tTP:\",TP,\"\\tFP:\",FP,\"\\n\\tTN:\",TN,\"\\tFN:\",FN )\n",
    "    print(\"\\n\"*2)\n",
    "    "
   ]
  },
  {
   "cell_type": "code",
   "execution_count": 217,
   "metadata": {},
   "outputs": [
    {
     "name": "stdout",
     "output_type": "stream",
     "text": [
      "\n",
      "============================================================================================\n",
      "Only considering ['serum creatinine', 'blood glucose random', 'specific gravity', 'blood pressure', 'age'] \n",
      "size = 297\n",
      "============================================================================================\n",
      "\n",
      "\n",
      "[0] Logistic Regression Training Accuracy:  0.898876404494382\n",
      "[1] K Neighbors Regression Training Accuracy:  0.8651685393258427\n",
      "[2] SVC Linear Training Accuracy:  0.9213483146067416\n",
      "[3] SVC RBF Training Accuracy:  0.9943820224719101\n",
      "[4] Gaussian NB Training Accuracy:  0.9382022471910112\n",
      "[5] Decision Tree Training Accuracy:  1.0\n",
      "[6] Random Forest Training Accuracy:  0.9943820224719101\n",
      "[7] XGBClassifier Training Accuracy:  0.9719101123595506\n",
      "\n",
      "============================================================================================\n",
      "\n",
      "Logistic Regression Testing Accuracy =  0.9243697478991597 \n",
      "\n",
      "\tTP: 54 \tFP: 2 \n",
      "\tTN: 56 \tFN: 7\n",
      "\n",
      "\n",
      "\n",
      "K Neighbors Testing Accuracy =  0.8571428571428571 \n",
      "\n",
      "\tTP: 50 \tFP: 6 \n",
      "\tTN: 52 \tFN: 11\n",
      "\n",
      "\n",
      "\n",
      "SVC Linear Testing Accuracy =  0.9243697478991597 \n",
      "\n",
      "\tTP: 53 \tFP: 1 \n",
      "\tTN: 57 \tFN: 8\n",
      "\n",
      "\n",
      "\n",
      "SVC RBF Testing Accuracy =  0.5714285714285714 \n",
      "\n",
      "\tTP: 61 \tFP: 51 \n",
      "\tTN: 7 \tFN: 0\n",
      "\n",
      "\n",
      "\n",
      "Gaussian NB Testing Accuracy =  0.9495798319327731 \n",
      "\n",
      "\tTP: 55 \tFP: 0 \n",
      "\tTN: 58 \tFN: 6\n",
      "\n",
      "\n",
      "\n",
      "Decision Tree Testing Accuracy =  0.9663865546218487 \n",
      "\n",
      "\tTP: 60 \tFP: 3 \n",
      "\tTN: 55 \tFN: 1\n",
      "\n",
      "\n",
      "\n",
      "Random Forest Testing Accuracy =  0.9915966386554622 \n",
      "\n",
      "\tTP: 60 \tFP: 0 \n",
      "\tTN: 58 \tFN: 1\n",
      "\n",
      "\n",
      "\n",
      "XGBClassifier Testing Accuracy =  0.9747899159663865 \n",
      "\n",
      "\tTP: 60 \tFP: 2 \n",
      "\tTN: 56 \tFN: 1\n",
      "\n",
      "\n",
      "\n"
     ]
    }
   ],
   "source": [
    "p=[\"serum creatinine\",\"blood glucose random\",\"specific gravity\",\"blood pressure\",\"age\"]\n",
    "\n",
    "subdata = Data.loc[:,p+[\"class\"]]\n",
    "subData=subdata.dropna(subset=p)\n",
    "\n",
    "X=subData.loc[:,p]\n",
    "Y=subData.loc[:,[\"class\"]]\n",
    "\n",
    "# Train and test set 60% : 40%\n",
    "from sklearn.model_selection import train_test_split\n",
    "X_train,X_test,Y_train,Y_test=train_test_split(X,Y,test_size=0.4,random_state=0)\n",
    "Y_train = np.array(np.ravel(Y_train)).astype(int)\n",
    "\n",
    "\n",
    "print(\"\\n============================================================================================\")\n",
    "print(\"Only considering\",p,\"\\nsize =\",len(subData))\n",
    "print(\"============================================================================================\\n\\n\")\n",
    "\n",
    "\n",
    "model = models(X_train,Y_train)\n",
    "ms=[\"Logistic Regression\",\"K Neighbors\",\"SVC Linear\",\"SVC RBF\",\"Gaussian NB\",\"Decision Tree\",\"Random Forest\",\"XGBClassifier\"]\n",
    "\n",
    "print(\"\\n============================================================================================\\n\")\n",
    "from sklearn.metrics import confusion_matrix\n",
    "for i in range (len(model)):\n",
    "    cm= confusion_matrix(Y_test,model[i].predict(X_test))\n",
    "    \n",
    "\n",
    "    #Extract  TN, FP ,FN, TP\n",
    "    TN, FP ,FN, TP =  cm.ravel()\n",
    "    \n",
    "    test_score=(TP+TN)/(TN+ FP +FN+ TP)\n",
    "    #print(cm)\n",
    "    print(ms[i],'Testing Accuracy = ',test_score,\"\\n\")\n",
    "    print(\"\\tTP:\",TP,\"\\tFP:\",FP,\"\\n\\tTN:\",TN,\"\\tFN:\",FN )\n",
    "    print(\"\\n\"*2)\n",
    "    "
   ]
  },
  {
   "cell_type": "code",
   "execution_count": 231,
   "metadata": {},
   "outputs": [
    {
     "name": "stdout",
     "output_type": "stream",
     "text": [
      "\n",
      "============================================================================================\n",
      "Only considering ['serum creatinine', 'blood glucose random', 'specific gravity', 'blood pressure', 'age'] \n",
      "size = 297         Train and test set 70% : 30%\n",
      "============================================================================================\n",
      "\n",
      "\n",
      "[0] Logistic Regression Training Accuracy:  0.8985507246376812\n",
      "[1] K Neighbors Regression Training Accuracy:  0.8405797101449275\n",
      "[2] SVC Linear Training Accuracy:  0.9082125603864735\n",
      "[3] SVC RBF Training Accuracy:  0.9951690821256038\n",
      "[4] Gaussian NB Training Accuracy:  0.9371980676328503\n",
      "[5] Decision Tree Training Accuracy:  1.0\n",
      "[6] Random Forest Training Accuracy:  1.0\n",
      "[7] XGBClassifier Training Accuracy:  0.966183574879227\n",
      "\n",
      "============================================================================================\n",
      "\n",
      "Logistic Regression Testing Accuracy =  0.9333333333333333 \n",
      "\n",
      "\tTP: 38 \tFP: 1 \n",
      "\tTN: 46 \tFN: 5\n",
      "\n",
      "\n",
      "\n",
      "K Neighbors Testing Accuracy =  0.8333333333333334 \n",
      "\n",
      "\tTP: 35 \tFP: 7 \n",
      "\tTN: 40 \tFN: 8\n",
      "\n",
      "\n",
      "\n",
      "SVC Linear Testing Accuracy =  0.9444444444444444 \n",
      "\n",
      "\tTP: 39 \tFP: 1 \n",
      "\tTN: 46 \tFN: 4\n",
      "\n",
      "\n",
      "\n",
      "SVC RBF Testing Accuracy =  0.5555555555555556 \n",
      "\n",
      "\tTP: 43 \tFP: 40 \n",
      "\tTN: 7 \tFN: 0\n",
      "\n",
      "\n",
      "\n",
      "Gaussian NB Testing Accuracy =  0.9555555555555556 \n",
      "\n",
      "\tTP: 39 \tFP: 0 \n",
      "\tTN: 47 \tFN: 4\n",
      "\n",
      "\n",
      "\n",
      "Decision Tree Testing Accuracy =  0.9777777777777777 \n",
      "\n",
      "\tTP: 43 \tFP: 2 \n",
      "\tTN: 45 \tFN: 0\n",
      "\n",
      "\n",
      "\n",
      "Random Forest Testing Accuracy =  1.0 \n",
      "\n",
      "\tTP: 43 \tFP: 0 \n",
      "\tTN: 47 \tFN: 0\n",
      "\n",
      "\n",
      "\n",
      "XGBClassifier Testing Accuracy =  1.0 \n",
      "\n",
      "\tTP: 43 \tFP: 0 \n",
      "\tTN: 47 \tFN: 0\n",
      "\n",
      "\n",
      "\n"
     ]
    }
   ],
   "source": [
    "p=[\"serum creatinine\",\"blood glucose random\",\"specific gravity\",\"blood pressure\",\"age\"]\n",
    "\n",
    "subdata = Data.loc[:,p+[\"class\"]]\n",
    "subData=subdata.dropna(subset=p)\n",
    "\n",
    "X=subData.loc[:,p]\n",
    "Y=subData.loc[:,[\"class\"]]\n",
    "\n",
    "# Train and test set 70% : 30%\n",
    "from sklearn.model_selection import train_test_split\n",
    "X_train,X_test,Y_train,Y_test=train_test_split(X,Y,test_size=0.3,random_state=0)\n",
    "Y_train = np.array(np.ravel(Y_train)).astype(int)\n",
    "\n",
    "\n",
    "print(\"\\n============================================================================================\")\n",
    "print(\"Only considering\",p,\"\\nsize =\",len(subData),\"        Train and test set 70% : 30%\")\n",
    "print(\"============================================================================================\\n\\n\")\n",
    "\n",
    "\n",
    "model = models(X_train,Y_train)\n",
    "ms=[\"Logistic Regression\",\"K Neighbors\",\"SVC Linear\",\"SVC RBF\",\"Gaussian NB\",\"Decision Tree\",\"Random Forest\",\"XGBClassifier\"]\n",
    "\n",
    "print(\"\\n============================================================================================\\n\")\n",
    "from sklearn.metrics import confusion_matrix\n",
    "for i in range (len(model)):\n",
    "    cm= confusion_matrix(Y_test,model[i].predict(X_test))\n",
    "    \n",
    "\n",
    "    #Extract  TN, FP ,FN, TP\n",
    "    TN, FP ,FN, TP =  cm.ravel()\n",
    "    \n",
    "    test_score=(TP+TN)/(TN+ FP +FN+ TP)\n",
    "    #print(cm)\n",
    "    print(ms[i],'Testing Accuracy = ',test_score,\"\\n\")\n",
    "    print(\"\\tTP:\",TP,\"\\tFP:\",FP,\"\\n\\tTN:\",TN,\"\\tFN:\",FN )\n",
    "    print(\"\\n\"*2)\n",
    "    "
   ]
  },
  {
   "cell_type": "code",
   "execution_count": null,
   "metadata": {},
   "outputs": [],
   "source": []
  }
 ],
 "metadata": {
  "kernelspec": {
   "display_name": "Python 3",
   "language": "python",
   "name": "python3"
  },
  "language_info": {
   "codemirror_mode": {
    "name": "ipython",
    "version": 3
   },
   "file_extension": ".py",
   "mimetype": "text/x-python",
   "name": "python",
   "nbconvert_exporter": "python",
   "pygments_lexer": "ipython3",
   "version": "3.7.4"
  }
 },
 "nbformat": 4,
 "nbformat_minor": 2
}
