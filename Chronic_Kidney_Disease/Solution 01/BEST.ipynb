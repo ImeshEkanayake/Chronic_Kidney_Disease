{
 "cells": [
  {
   "cell_type": "code",
   "execution_count": null,
   "metadata": {},
   "outputs": [],
   "source": [
    "#==========================================================================\n",
    "#                              the best\n",
    "#==========================================================================\n",
    "\n",
    "p=['appetite',  'hypertension', 'diabetes mellitus',  'age', 'blood urea', 'albumin', \n",
    "    'sodium', 'potassium']  #'bacteria','sugar','pedal edema',\n",
    "subdata = Data.loc[:,p+[\"class\"]]\n",
    "subData=subdata.dropna(subset=p)\n",
    "\n",
    "X=subData.loc[:,p]\n",
    "Y=subData.loc[:,[\"class\"]]\n",
    "\n",
    "# Train and test set 70% : 30%\n",
    "from sklearn.model_selection import train_test_split\n",
    "X_train,X_test,Y_train,Y_test=train_test_split(X,Y,test_size=0.2,random_state=2)\n",
    "Y_train = np.array(np.ravel(Y_train)).astype(int)\n",
    "\n",
    "\n",
    "print(\"\\n============================================================================================\")\n",
    "print(\"Only considering\",p,\"\\nsize =\",len(subData),\"        Train and test set 70% : 30%\")\n",
    "print(\"============================================================================================\\n\\n\")\n",
    "\n",
    "\n",
    "model = models(X_train,Y_train)\n",
    "ms=[\"Logistic Regression\",\"K Neighbors\",\"SVC Linear\",\"SVC RBF\",\"Gaussian NB\",\"Decision Tree\",\"Random Forest\",\"XGBClassifier\"]\n",
    "\n",
    "print(\"\\n============================================================================================\\n\")\n",
    "from sklearn.metrics import confusion_matrix\n",
    "for i in range (len(model)):\n",
    "    cm= confusion_matrix(Y_test,model[i].predict(X_test))\n",
    "    \n",
    "\n",
    "    #Extract  TN, FP ,FN, TP\n",
    "    TN, FP ,FN, TP =  cm.ravel()\n",
    "    \n",
    "    test_score=(TP+TN)/(TN+ FP +FN+ TP)\n",
    "    #print(cm)\n",
    "    print(ms[i],'Testing Accuracy = ',test_score,\"\\n\")\n",
    "    print(\"\\tTP:\",TP,\"\\tFP:\",FP,\"\\n\\tTN:\",TN,\"\\tFN:\",FN )\n",
    "    print(\"\\n\"*2)\n",
    "    "
   ]
  }
 ],
 "metadata": {
  "kernelspec": {
   "display_name": "Python 3",
   "language": "python",
   "name": "python3"
  },
  "language_info": {
   "codemirror_mode": {
    "name": "ipython",
    "version": 3
   },
   "file_extension": ".py",
   "mimetype": "text/x-python",
   "name": "python",
   "nbconvert_exporter": "python",
   "pygments_lexer": "ipython3",
   "version": "3.7.4"
  }
 },
 "nbformat": 4,
 "nbformat_minor": 2
}
